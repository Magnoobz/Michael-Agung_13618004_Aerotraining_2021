{
 "cells": [
  {
   "cell_type": "code",
   "execution_count": 1,
   "id": "38367170",
   "metadata": {},
   "outputs": [],
   "source": [
    "from math import sqrt, pow\n",
    "\n",
    "class PerfectGas():\n",
    "    \n",
    "    def __init__(self, temperature, pressure, mach, gamma = 1.4, R = 287):\n",
    "        self.temperature = temperature\n",
    "        self.pressure = pressure\n",
    "        self.mach = mach\n",
    "        self.gamma = gamma\n",
    "        self.R = R\n",
    "        \n",
    "    def calculate_Cp(self):\n",
    "        return self.gamma * self.R / (self.gamma-1)\n",
    "\n",
    "    def calculate_Cv(self):\n",
    "        return self.R / (self.gamma-1)\n",
    "    \n",
    "    def speed_of_sound(self):\n",
    "        return sqrt(self.gamma * self.R * self.temperature)\n",
    "    \n",
    "    def velocity(self):\n",
    "        return self.mach * self.speed_of_sound()\n",
    "    \n",
    "    def total_temperature(self):\n",
    "        temp = 1 + (self.gamma - 1) / 2 *pow(self.mach, 2)\n",
    "        return temp * self.temperature\n",
    "    \n",
    "    def total_pressure(self):\n",
    "        temp1 = 1 + (self.gamma - 1) / 2 * pow(self.mach, 2)\n",
    "        temp2 = self.gamma / (self.gamma - 1)\n",
    "        temp = pow(temp1, temp2)\n",
    "        return temp * self.pressure"
   ]
  },
  {
   "cell_type": "markdown",
   "id": "5e489413",
   "metadata": {},
   "source": [
    "Kalkulator untuk \"Perfect Gas\" dengan input nilai temperatur, tekanan, Mach, gamma, dan R. Dari kelima nilai di atas, dihitung nilai Cp, Cv, kecepatan suara, kecepatan fluida, temperatur total, dan tekanan total sesuai dengan rumus-rumus yang sesuai.\n",
    "\n",
    "Nilai gamma dan R diberikan nilai default untuk udara pada umumnya."
   ]
  },
  {
   "cell_type": "code",
   "execution_count": 2,
   "id": "d61f6351",
   "metadata": {},
   "outputs": [],
   "source": [
    "air = PerfectGas(298, 100000, 0.2)"
   ]
  },
  {
   "cell_type": "markdown",
   "id": "8155ca4c",
   "metadata": {},
   "source": [
    "Membuat kelas \"air\" dengan memasukkan nilai temperatur, tekanan, dan Mach. Untuk nilai gamma dan R sendiri menggunakan nilai default yang telah diberikan sebelumnya."
   ]
  },
  {
   "cell_type": "code",
   "execution_count": 3,
   "id": "0f952c7d",
   "metadata": {},
   "outputs": [
    {
     "name": "stdout",
     "output_type": "stream",
     "text": [
      "Cp\t\t\t: 1004.50\n",
      "Cv\t\t\t:  717.50\n",
      "Speed of sound\t\t:  346.03 m/s\n",
      "Velocity\t\t:   69.21 m/s\n",
      "Total temperature\t:  300.38 K\n",
      "Total pressure\t\t:  102828 Pa\n"
     ]
    }
   ],
   "source": [
    "print(\"Cp\\t\\t\\t: {:7.2f}\".format(air.calculate_Cp()))\n",
    "print(\"Cv\\t\\t\\t: {:7.2f}\".format(air.calculate_Cv()))\n",
    "print(\"Speed of sound\\t\\t: {:7.2f} m/s\".format(air.speed_of_sound()))\n",
    "print(\"Velocity\\t\\t: {:7.2f} m/s\".format(air.velocity()))\n",
    "print(\"Total temperature\\t: {:7.2f} K\".format(air.total_temperature()))\n",
    "print(\"Total pressure\\t\\t: {:7.0f} Pa\".format(air.total_pressure()))"
   ]
  },
  {
   "cell_type": "markdown",
   "id": "396d4f05",
   "metadata": {},
   "source": [
    "Menampilkan hasil yang telah dihitung oleh kalkulator di atas."
   ]
  }
 ],
 "metadata": {
  "kernelspec": {
   "display_name": "Python 3",
   "language": "python",
   "name": "python3"
  },
  "language_info": {
   "codemirror_mode": {
    "name": "ipython",
    "version": 3
   },
   "file_extension": ".py",
   "mimetype": "text/x-python",
   "name": "python",
   "nbconvert_exporter": "python",
   "pygments_lexer": "ipython3",
   "version": "3.8.8"
  }
 },
 "nbformat": 4,
 "nbformat_minor": 5
}
