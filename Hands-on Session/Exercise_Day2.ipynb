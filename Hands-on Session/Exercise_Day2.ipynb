{
 "cells": [
  {
   "cell_type": "code",
   "execution_count": 1,
   "id": "340c40bf",
   "metadata": {},
   "outputs": [],
   "source": [
    "class Statistics:\n",
    "    \n",
    "    def __init__(self,data_array):\n",
    "        self.data_array = data_array\n",
    "        \n",
    "    def range(self):\n",
    "        return max(self.data_array) - min(self.data_array)\n",
    "    \n",
    "    def mean(self):\n",
    "        return sum(self.data_array) / len(self.data_array)\n",
    "\n",
    "    def standard_deviation(self):\n",
    "        result = 0\n",
    "        \n",
    "        for i in range(len(self.data_array)):\n",
    "            result += (self.data_array[i] - self.mean())**2\n",
    "        \n",
    "        result = (result / len(self.data_array))**0.5\n",
    "        \n",
    "        return result"
   ]
  },
  {
   "cell_type": "code",
   "execution_count": 2,
   "id": "c9f82941",
   "metadata": {},
   "outputs": [],
   "source": [
    "data = Statistics([4, 11, 7, 9, 10, 3, 12, 2])"
   ]
  },
  {
   "cell_type": "code",
   "execution_count": 3,
   "id": "1d2da190",
   "metadata": {},
   "outputs": [
    {
     "name": "stdout",
     "output_type": "stream",
     "text": [
      "Range\t\t\t: 10\n",
      "Standard Deviation\t: 3.5969\n"
     ]
    }
   ],
   "source": [
    "print(f\"Range\\t\\t\\t: {data.range()}\")\n",
    "print(\"Standard Deviation\\t: {:6.4f}\".format(data.standard_deviation()))"
   ]
  },
  {
   "cell_type": "code",
   "execution_count": null,
   "id": "43ad3287",
   "metadata": {},
   "outputs": [],
   "source": []
  }
 ],
 "metadata": {
  "kernelspec": {
   "display_name": "Python 3",
   "language": "python",
   "name": "python3"
  },
  "language_info": {
   "codemirror_mode": {
    "name": "ipython",
    "version": 3
   },
   "file_extension": ".py",
   "mimetype": "text/x-python",
   "name": "python",
   "nbconvert_exporter": "python",
   "pygments_lexer": "ipython3",
   "version": "3.8.8"
  }
 },
 "nbformat": 4,
 "nbformat_minor": 5
}
